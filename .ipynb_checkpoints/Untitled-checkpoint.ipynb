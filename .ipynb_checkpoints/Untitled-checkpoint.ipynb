{
 "cells": [
  {
   "cell_type": "markdown",
   "id": "da11f46a",
   "metadata": {},
   "source": [
    "                                           BDAT 1004\n",
    "                                       Abisola Olakanmi - 200595924\n",
    "                                          Problem Set 1"
   ]
  },
  {
   "cell_type": "markdown",
   "id": "9e813c2b",
   "metadata": {},
   "source": [
    "Question 1\n",
    "What data type is each of the following (evaluate where necessary)?"
   ]
  },
  {
   "cell_type": "code",
   "execution_count": 14,
   "id": "61cf7dcf",
   "metadata": {},
   "outputs": [
    {
     "name": "stdout",
     "output_type": "stream",
     "text": [
      "<class 'int'>\n",
      "<class 'float'>\n",
      "<class 'bool'>\n",
      "<class 'str'>\n",
      "<class 'int'>\n",
      "<class 'str'>\n",
      "<class 'str'>\n",
      "<class 'float'>\n",
      "<class 'set'>\n",
      "<class 'set'>\n",
      "<class 'bool'>\n",
      "<class 'float'>\n"
     ]
    }
   ],
   "source": [
    "from math import pi\n",
    "a= 5\n",
    "print(type(a))\n",
    "b= 5.0\n",
    "print(type(b))\n",
    "c= 5 > 1\n",
    "print(type(c))\n",
    "d= '5'\n",
    "print(type(d))\n",
    "e= 5 * 2\n",
    "print(type(e))\n",
    "f= '5' * 2\n",
    "print(type(f))\n",
    "g= '5' + '2'\n",
    "print(type(g))\n",
    "h= 5 / 2\n",
    "print(type(h))\n",
    "i= {5 % 2}\n",
    "print(type(i))\n",
    "j= {5, 2, 1}\n",
    "print(type(j))\n",
    "k= 5== 3\n",
    "print(type(k))\n",
    "Pi=math.pi\n",
    "print(type(pi))\n"
   ]
  },
  {
   "cell_type": "code",
   "execution_count": 15,
   "id": "6ac885cd",
   "metadata": {},
   "outputs": [
    {
     "data": {
      "text/plain": [
       "34"
      ]
     },
     "execution_count": 15,
     "metadata": {},
     "output_type": "execute_result"
    }
   ],
   "source": [
    "# How many letters are there in 'Supercalifragilisticexpialidocious'?\n",
    "letters = 'Supercalifragilisticexpialidocious'\n",
    "len(letters)"
   ]
  },
  {
   "cell_type": "code",
   "execution_count": null,
   "id": "8c47a56c",
   "metadata": {},
   "outputs": [],
   "source": []
  },
  {
   "cell_type": "code",
   "execution_count": null,
   "id": "a8d2cb6a",
   "metadata": {},
   "outputs": [],
   "source": []
  },
  {
   "cell_type": "code",
   "execution_count": null,
   "id": "cc0cd7b8",
   "metadata": {},
   "outputs": [],
   "source": []
  },
  {
   "cell_type": "code",
   "execution_count": null,
   "id": "16234fb3",
   "metadata": {},
   "outputs": [],
   "source": []
  }
 ],
 "metadata": {
  "kernelspec": {
   "display_name": "Python 3 (ipykernel)",
   "language": "python",
   "name": "python3"
  },
  "language_info": {
   "codemirror_mode": {
    "name": "ipython",
    "version": 3
   },
   "file_extension": ".py",
   "mimetype": "text/x-python",
   "name": "python",
   "nbconvert_exporter": "python",
   "pygments_lexer": "ipython3",
   "version": "3.10.9"
  }
 },
 "nbformat": 4,
 "nbformat_minor": 5
}
