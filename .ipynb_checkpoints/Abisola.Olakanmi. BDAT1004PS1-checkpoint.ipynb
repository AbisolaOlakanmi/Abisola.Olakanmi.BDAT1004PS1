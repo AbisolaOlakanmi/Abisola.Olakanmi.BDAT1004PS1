{
 "cells": [
  {
   "cell_type": "markdown",
   "id": "e955f7ab",
   "metadata": {},
   "source": [
    "                                           #BDAT 1004\n",
    "                                       Abisola Olakanmi - 200595924\n",
    "                                          Problem Set 1"
   ]
  },
  {
   "cell_type": "markdown",
   "id": "ba650063",
   "metadata": {},
   "source": [
    "# Question 1"
   ]
  },
  {
   "cell_type": "markdown",
   "id": "fecc7c5e",
   "metadata": {},
   "source": [
    "Question 1\n",
    "What data type is each of the following (evaluate where necessary)?"
   ]
  },
  {
   "cell_type": "code",
   "execution_count": 1,
   "id": "b9c6883d",
   "metadata": {},
   "outputs": [
    {
     "name": "stdout",
     "output_type": "stream",
     "text": [
      "<class 'int'>\n",
      "<class 'float'>\n",
      "<class 'bool'>\n",
      "<class 'str'>\n",
      "<class 'int'>\n",
      "<class 'str'>\n",
      "<class 'str'>\n",
      "<class 'float'>\n",
      "<class 'set'>\n",
      "<class 'set'>\n",
      "<class 'bool'>\n",
      "<class 'float'>\n"
     ]
    }
   ],
   "source": [
    "import math\n",
    "from math import pi\n",
    "a= 5\n",
    "print(type(a))\n",
    "b= 5.0\n",
    "print(type(b))\n",
    "c= 5 > 1\n",
    "print(type(c))\n",
    "d= '5'\n",
    "print(type(d))\n",
    "e= 5 * 2\n",
    "print(type(e))\n",
    "f= '5' * 2\n",
    "print(type(f))\n",
    "g= '5' + '2'\n",
    "print(type(g))\n",
    "h= 5 / 2\n",
    "print(type(h))\n",
    "i= {5 % 2}\n",
    "print(type(i))\n",
    "j= {5, 2, 1}\n",
    "print(type(j))\n",
    "k= 5== 3\n",
    "print(type(k))\n",
    "Pi=math.pi\n",
    "print(type(pi))\n"
   ]
  },
  {
   "cell_type": "markdown",
   "id": "0ffc62e3",
   "metadata": {},
   "source": [
    "# Question 2 "
   ]
  },
  {
   "cell_type": "code",
   "execution_count": 2,
   "id": "5a4d1872",
   "metadata": {},
   "outputs": [
    {
     "data": {
      "text/plain": [
       "34"
      ]
     },
     "execution_count": 2,
     "metadata": {},
     "output_type": "execute_result"
    }
   ],
   "source": [
    "# 2a. How many letters are there in 'Supercalifragilisticexpialidocious'?\n",
    "letters = 'Supercalifragilisticexpialidocious'\n",
    "len(letters)"
   ]
  },
  {
   "cell_type": "code",
   "execution_count": 3,
   "id": "5e9ac478",
   "metadata": {},
   "outputs": [
    {
     "name": "stdout",
     "output_type": "stream",
     "text": [
      "True\n"
     ]
    }
   ],
   "source": [
    "# 2b. Does 'Supercalifragilisticexpialidocious' contain 'ice' as a substring?\n",
    "letters='Supercalifragilisticexpialidocious'\n",
    "print('ice' in letters)             #print true if ice exsit in the letters\n",
    "\n"
   ]
  },
  {
   "cell_type": "code",
   "execution_count": 4,
   "id": "eff8b29d",
   "metadata": {},
   "outputs": [
    {
     "name": "stdout",
     "output_type": "stream",
     "text": [
      "Supercalifragilisticexpialidocious\n"
     ]
    }
   ],
   "source": [
    "# 2C Which of the following words is the longest:Supercalifragilisticexpialidocious, Honorificabilitudinitatibus, or Bababadalgharaghtakamminarronnkonn?\n",
    "\n",
    "#creating a list\n",
    "lst = ['Supercalifragilisticexpialidocious', 'Honorificabilitudinitatibus', 'Bababadalgharaghtakamminarronnkonn']\n",
    "\n",
    "# get the longest word in the lst\n",
    "print(max(lst,key=len))"
   ]
  },
  {
   "cell_type": "code",
   "execution_count": 5,
   "id": "49f3f445",
   "metadata": {},
   "outputs": [
    {
     "name": "stdout",
     "output_type": "stream",
     "text": [
      "Bartok\n",
      "Buxtehude\n"
     ]
    }
   ],
   "source": [
    "# 2d.Which composer comes first in the dictionary: 'Berlioz', 'Borodin', 'Brian','Bartok', 'Bellini', 'Buxtehude', 'Bernstein'. Which one comes last?\n",
    "# creating a list and print word that comes first\n",
    "Composer =['Berlioz', 'Borodin', 'Brian','Bartok', 'Bellini', 'Buxtehude', 'Bernstein']\n",
    "a= min(Composer)\n",
    "print(a)                 # print name that comes first alphabetically\n",
    "b= max(Composer)         #print name of composer that comes last alphabetically\n",
    "print(b)\n"
   ]
  },
  {
   "cell_type": "markdown",
   "id": "b0520979",
   "metadata": {},
   "source": [
    "# Question 3."
   ]
  },
  {
   "cell_type": "code",
   "execution_count": 19,
   "id": "daf8f935",
   "metadata": {},
   "outputs": [
    {
     "name": "stdout",
     "output_type": "stream",
     "text": [
      "1.7320508075688772\n"
     ]
    }
   ],
   "source": [
    "#defining the triangle area with length of 3 sides\n",
    "def triangleArea(a,b,c):\n",
    "  # calculate the semi-perimeter using Heron's  formula\n",
    "  s = (a + b + c) / 2\n",
    "\n",
    "  area = (s*(s-a)*(s-b)*(s-c)) ** 0.5   # calculating the area and return it\n",
    "  return area\n",
    "  \n",
    "print(triangleArea(2,2,2))        #print result\n",
    "    "
   ]
  },
  {
   "cell_type": "markdown",
   "id": "48b9fbef",
   "metadata": {},
   "source": [
    "# Question 4."
   ]
  },
  {
   "cell_type": "code",
   "execution_count": 20,
   "id": "54a4c1dd",
   "metadata": {},
   "outputs": [
    {
     "name": "stdout",
     "output_type": "stream",
     "text": [
      "Even elements: [42, 56, 32]\n",
      "Odd elements: [25, 47]\n"
     ]
    }
   ],
   "source": [
    "# using split Function \n",
    "def Split(Data):\n",
    "    ev_li = []\n",
    "    od_li = []\n",
    "    for i in mix:\n",
    "        if (i % 2 == 0):\n",
    "            ev_li.append(i)\n",
    "        else:\n",
    "            od_li.append(i)\n",
    "    print(\"Even elements:\", ev_li)   #print this prefix and the even elements \n",
    "    print(\"Odd elements:\", od_li)     ##print this prefix and the odd elements \n",
    " \n",
    " \n",
    "# list of elements\n",
    "Data = [25, 47, 42, 56, 32 ]\n",
    "Split(mix)"
   ]
  },
  {
   "cell_type": "markdown",
   "id": "74e4074a",
   "metadata": {},
   "source": [
    "# Questions 5"
   ]
  },
  {
   "cell_type": "code",
   "execution_count": 8,
   "id": "26e93f34",
   "metadata": {},
   "outputs": [
    {
     "name": "stdout",
     "output_type": "stream",
     "text": [
      "True\n",
      "False\n"
     ]
    }
   ],
   "source": [
    "#5a Defining the fuction and returning it if it lies in the rectangle with lower left corner\n",
    "def inside(x,y,x1,y1,x2,y2):\n",
    "    if (x > x1 and x < x2 and\n",
    "        y > y1 and y < y2):\n",
    "          return True           #if statement is true \n",
    "    else :\n",
    "        return False            #if statement is false\n",
    "    \n",
    "print(inside(1,1,0,0,2,3))\n",
    "print(inside(-1,-1,0,0,2,3))"
   ]
  },
  {
   "cell_type": "code",
   "execution_count": 21,
   "id": "2646a83b",
   "metadata": {},
   "outputs": [
    {
     "name": "stdout",
     "output_type": "stream",
     "text": [
      "False\n",
      "True\n"
     ]
    }
   ],
   "source": [
    "#5b\n",
    "#module is being run as  top-level \n",
    "if __name__ == \"__main__\" :\n",
    "\n",
    "  def point1():\n",
    "    x1,y1,x2,y2 = 0.3, 0.5,1.1, 0.7\n",
    "    x,y = 1,1\n",
    "    if inside(x,y,x1,y1,x2,y2):\n",
    "        \n",
    "      print(\"True\")\n",
    "    else:                 #execute if otherwise\n",
    "      print(\"False\")\n",
    "\n",
    "  def point2():\n",
    "    x1,y1,x2,y2 = 0.5, 0.2,1.1, 2\n",
    "    x,y = 1,1 # given point\n",
    "    if inside(x,y,x1,y1,x2,y2):\n",
    "      print(\"True\")\n",
    "    else:                 #execute if otherwise\n",
    "      print(\"False\")\n",
    "#function to excecute\n",
    "point1()\n",
    "point2()"
   ]
  },
  {
   "cell_type": "markdown",
   "id": "93c89c52",
   "metadata": {},
   "source": [
    "# Question 6"
   ]
  },
  {
   "cell_type": "code",
   "execution_count": 10,
   "id": "d5d59f74",
   "metadata": {},
   "outputs": [
    {
     "name": "stdout",
     "output_type": "stream",
     "text": [
      "pig-Latin of 'happy' is\n",
      "appyhay \n",
      "---------------------------\n",
      "pig-Latin of 'enter' is\n",
      "enterway \n"
     ]
    }
   ],
   "source": [
    "def pig(input):\n",
    "    a = input.lower()                      #convert input word to lowercase\n",
    "    word = a.split()\n",
    "    vowelletters = (\"a\", \"e\", \"i\", \"o\", \"u\")    #5 vowels\n",
    "    if a[0] in vowelletters:                   \n",
    "        for input in word:\n",
    "            print(input + \"way\", end = \" \")         #append way to the end of the word if it start with vowel\n",
    "            \n",
    "    else:\n",
    "        for input in word:\n",
    "            print(input[1:] + input[0] + \"ay\", end = \" \")        #append ay to the end of the word if consonant\n",
    "    print()  \n",
    "    \n",
    "print(\"pig-Latin of 'happy' is\")\n",
    "pig(\"happy\")\n",
    "print(\"---------------------------\")\n",
    "print(\"pig-Latin of 'enter' is\")\n",
    "pig(\"Enter\")"
   ]
  },
  {
   "cell_type": "markdown",
   "id": "44aab110",
   "metadata": {},
   "source": [
    "# Question 7"
   ]
  },
  {
   "cell_type": "code",
   "execution_count": 11,
   "id": "5e0a6c37",
   "metadata": {},
   "outputs": [
    {
     "name": "stdout",
     "output_type": "stream",
     "text": [
      "There are 15 patients of blood type A.\n",
      "There are 1 patients of blood type B.\n",
      "There are 13 patients of blood type AB.\n",
      "There are 15 patients of blood type O.\n",
      "There are 0 patients of blood type OO.\n"
     ]
    }
   ],
   "source": [
    "# defining and reading the .txt file\n",
    "def bldcount(filepath):\n",
    "  x = open(filepath,'r') #open and read text file\n",
    "  content = x.readline()\n",
    "  lst = []\n",
    "  bloodtype1 = ['A','B','AB','O','OO']  #a list to store the count of each bloodtype\n",
    "    \n",
    "  #Split and store in a lst\n",
    "  lst.append(content.split(\" \"))\n",
    "    \n",
    "  #count for each bloodtype\n",
    "  for bloodtype1 in bloodtype1:\n",
    "    print(\"There are {} patients of blood type {}.\".format(lst[0].count(bloodtype1),bloodtype1))\n",
    "    \n",
    "bldcount('bloodtype1.txt')"
   ]
  },
  {
   "cell_type": "markdown",
   "id": "1148fa37",
   "metadata": {},
   "source": [
    "# Question 8"
   ]
  },
  {
   "cell_type": "code",
   "execution_count": 12,
   "id": "ed4d6a2c",
   "metadata": {},
   "outputs": [
    {
     "name": "stdout",
     "output_type": "stream",
     "text": [
      ">>>curconv('EUR', 100): \n",
      "122.96544\n",
      ">>>curconv('JPY', 100): \n",
      "1.241401\n"
     ]
    }
   ],
   "source": [
    "#defining function curconv\n",
    "def curconv(currency, amount):\n",
    "    if currency == \"EUR\":       #if currency is Euro and its rate is:\n",
    "        rate = 1.2296544*amount\n",
    "        \n",
    "    elif currency == \"JPY\":             #if currency is Japanese Yen and its rate is:\n",
    "        rate = 0.01241401*amount\n",
    "           \n",
    "    print(str(rate))\n",
    "#input currency code and amount   \n",
    "print(\">>>curconv('EUR', 100): \")\n",
    "curconv('EUR', 100)\n",
    "\n",
    "print(\">>>curconv('JPY', 100): \")\n",
    "curconv('JPY', 100)"
   ]
  },
  {
   "cell_type": "markdown",
   "id": "11cb27d1",
   "metadata": {},
   "source": [
    "# Question 9"
   ]
  },
  {
   "cell_type": "code",
   "execution_count": 13,
   "id": "bcc2819e",
   "metadata": {},
   "outputs": [
    {
     "ename": "SyntaxError",
     "evalue": "invalid character '‘' (U+2018) (3499388863.py, line 2)",
     "output_type": "error",
     "traceback": [
      "\u001b[1;36m  Cell \u001b[1;32mIn[13], line 2\u001b[1;36m\u001b[0m\n\u001b[1;33m    b= 6 + ‘a’\u001b[0m\n\u001b[1;37m           ^\u001b[0m\n\u001b[1;31mSyntaxError\u001b[0m\u001b[1;31m:\u001b[0m invalid character '‘' (U+2018)\n"
     ]
    }
   ],
   "source": [
    "# Trying to add incompatible variables, as in adding 6 + ‘a’\n",
    "b= 6 + ‘a’             #------------cannot add an interger to a string\n",
    "print (b)     "
   ]
  },
  {
   "cell_type": "code",
   "execution_count": 14,
   "id": "18d1b4c4",
   "metadata": {},
   "outputs": [
    {
     "ename": "IndexError",
     "evalue": "list index out of range",
     "output_type": "error",
     "traceback": [
      "\u001b[1;31m---------------------------------------------------------------------------\u001b[0m",
      "\u001b[1;31mIndexError\u001b[0m                                Traceback (most recent call last)",
      "Cell \u001b[1;32mIn[14], line 3\u001b[0m\n\u001b[0;32m      1\u001b[0m \u001b[38;5;66;03m#Referring to the 12th item of a list that has only 10 items\u001b[39;00m\n\u001b[0;32m      2\u001b[0m lst\u001b[38;5;241m=\u001b[39m[a,b,c,d,e,f,g,h,i,j]\n\u001b[1;32m----> 3\u001b[0m \u001b[38;5;28mprint\u001b[39m(\u001b[43mlst\u001b[49m\u001b[43m[\u001b[49m\u001b[38;5;241;43m12\u001b[39;49m\u001b[43m]\u001b[49m)\n",
      "\u001b[1;31mIndexError\u001b[0m: list index out of range"
     ]
    }
   ],
   "source": [
    "#Referring to the 12th item of a list that has only 10 items\n",
    "lst=[a,b,c,d,e,f,g,h,i,j]                #access an index that is out of range\n",
    "print(lst[12])"
   ]
  },
  {
   "cell_type": "code",
   "execution_count": 15,
   "id": "e71dc711",
   "metadata": {},
   "outputs": [
    {
     "ename": "ValueError",
     "evalue": "math domain error",
     "output_type": "error",
     "traceback": [
      "\u001b[1;31m---------------------------------------------------------------------------\u001b[0m",
      "\u001b[1;31mValueError\u001b[0m                                Traceback (most recent call last)",
      "Cell \u001b[1;32mIn[15], line 2\u001b[0m\n\u001b[0;32m      1\u001b[0m \u001b[38;5;66;03m#Using a value that is out of range for a function’s #input, such as calling math.sqrt( 1.0)\u001b[39;00m\n\u001b[1;32m----> 2\u001b[0m \u001b[38;5;28mprint\u001b[39m(\u001b[43mmath\u001b[49m\u001b[38;5;241;43m.\u001b[39;49m\u001b[43msqrt\u001b[49m\u001b[43m(\u001b[49m\u001b[38;5;241;43m-\u001b[39;49m\u001b[38;5;241;43m1.0\u001b[39;49m\u001b[43m)\u001b[49m)\n",
      "\u001b[1;31mValueError\u001b[0m: math domain error"
     ]
    }
   ],
   "source": [
    "#Using a value that is out of range for a function’s #input, such as calling math.sqrt( 1.0)\n",
    "print(math.sqrt(-1.0))          #math.sqrt does not accept a negative number as square root"
   ]
  },
  {
   "cell_type": "code",
   "execution_count": 16,
   "id": "3a808bf7",
   "metadata": {},
   "outputs": [
    {
     "ename": "NameError",
     "evalue": "name 'x' is not defined",
     "output_type": "error",
     "traceback": [
      "\u001b[1;31m---------------------------------------------------------------------------\u001b[0m",
      "\u001b[1;31mNameError\u001b[0m                                 Traceback (most recent call last)",
      "Cell \u001b[1;32mIn[16], line 2\u001b[0m\n\u001b[0;32m      1\u001b[0m \u001b[38;5;66;03m#Using an undeclared variable, such as print(x) # when x has not been defined\u001b[39;00m\n\u001b[1;32m----> 2\u001b[0m \u001b[38;5;28mprint\u001b[39m(\u001b[43mx\u001b[49m)\n",
      "\u001b[1;31mNameError\u001b[0m: name 'x' is not defined"
     ]
    }
   ],
   "source": [
    "#Using an undeclared variable, such as print(x) # when x has not been defined\n",
    "print(x)       # x is not defined so it will through this error"
   ]
  },
  {
   "cell_type": "code",
   "execution_count": 17,
   "id": "e14e604f",
   "metadata": {},
   "outputs": [
    {
     "ename": "FileNotFoundError",
     "evalue": "[Errno 2] No such file or directory: 'sample.txt'",
     "output_type": "error",
     "traceback": [
      "\u001b[1;31m---------------------------------------------------------------------------\u001b[0m",
      "\u001b[1;31mFileNotFoundError\u001b[0m                         Traceback (most recent call last)",
      "Cell \u001b[1;32mIn[17], line 2\u001b[0m\n\u001b[0;32m      1\u001b[0m \u001b[38;5;66;03m# Trying to open a file that does not exist, such as mistyping the file name or looking in the wrong directory.\u001b[39;00m\n\u001b[1;32m----> 2\u001b[0m infile \u001b[38;5;241m=\u001b[39m \u001b[38;5;28;43mopen\u001b[39;49m\u001b[43m(\u001b[49m\u001b[38;5;124;43m'\u001b[39;49m\u001b[38;5;124;43msample.txt\u001b[39;49m\u001b[38;5;124;43m'\u001b[39;49m\u001b[43m)\u001b[49m\n",
      "File \u001b[1;32m~\\anaconda3\\lib\\site-packages\\IPython\\core\\interactiveshell.py:284\u001b[0m, in \u001b[0;36m_modified_open\u001b[1;34m(file, *args, **kwargs)\u001b[0m\n\u001b[0;32m    277\u001b[0m \u001b[38;5;28;01mif\u001b[39;00m file \u001b[38;5;129;01min\u001b[39;00m {\u001b[38;5;241m0\u001b[39m, \u001b[38;5;241m1\u001b[39m, \u001b[38;5;241m2\u001b[39m}:\n\u001b[0;32m    278\u001b[0m     \u001b[38;5;28;01mraise\u001b[39;00m \u001b[38;5;167;01mValueError\u001b[39;00m(\n\u001b[0;32m    279\u001b[0m         \u001b[38;5;124mf\u001b[39m\u001b[38;5;124m\"\u001b[39m\u001b[38;5;124mIPython won\u001b[39m\u001b[38;5;124m'\u001b[39m\u001b[38;5;124mt let you open fd=\u001b[39m\u001b[38;5;132;01m{\u001b[39;00mfile\u001b[38;5;132;01m}\u001b[39;00m\u001b[38;5;124m by default \u001b[39m\u001b[38;5;124m\"\u001b[39m\n\u001b[0;32m    280\u001b[0m         \u001b[38;5;124m\"\u001b[39m\u001b[38;5;124mas it is likely to crash IPython. If you know what you are doing, \u001b[39m\u001b[38;5;124m\"\u001b[39m\n\u001b[0;32m    281\u001b[0m         \u001b[38;5;124m\"\u001b[39m\u001b[38;5;124myou can use builtins\u001b[39m\u001b[38;5;124m'\u001b[39m\u001b[38;5;124m open.\u001b[39m\u001b[38;5;124m\"\u001b[39m\n\u001b[0;32m    282\u001b[0m     )\n\u001b[1;32m--> 284\u001b[0m \u001b[38;5;28;01mreturn\u001b[39;00m io_open(file, \u001b[38;5;241m*\u001b[39margs, \u001b[38;5;241m*\u001b[39m\u001b[38;5;241m*\u001b[39mkwargs)\n",
      "\u001b[1;31mFileNotFoundError\u001b[0m: [Errno 2] No such file or directory: 'sample.txt'"
     ]
    }
   ],
   "source": [
    "# Trying to open a file that does not exist, such as mistyping the file name or looking in the wrong directory.\n",
    "infile = open('sample.txt')          # file trying to oprn doesn not exist in the directory "
   ]
  },
  {
   "cell_type": "markdown",
   "id": "4bfa6bab",
   "metadata": {},
   "source": [
    "# Question 10"
   ]
  },
  {
   "cell_type": "code",
   "execution_count": 18,
   "id": "921835eb",
   "metadata": {},
   "outputs": [
    {
     "name": "stdout",
     "output_type": "stream",
     "text": [
      ">>> frequencies('The quick red fox got bored and went home.')\n",
      "[1, 1, 1, 3, 5, 1, 1, 2, 1, 0, 1, 0, 1, 2, 4, 0, 1, 2, 0, 2, 1, 0, 1, 1, 0, 0]\n",
      ">>> frequencies('apple')\n",
      "[1, 0, 0, 0, 1, 0, 0, 0, 0, 0, 0, 1, 0, 0, 0, 2, 0, 0, 0, 0, 0, 0, 0, 0, 0, 0]\n"
     ]
    }
   ],
   "source": [
    "#defining the function frequencies\n",
    "def frequencies(string):\n",
    "    alphabet = \"abcdefghijklmnopqrstuvwxyz\"     #string letters\n",
    "    number = []\n",
    "    \n",
    "    for letters in alphabet:\n",
    "        count = string.count(letters)\n",
    "        number.append(count)                   #count it\n",
    "    print(number)                              #retrun list of integers\n",
    "    \n",
    "\n",
    "print(\">>> frequencies('The quick red fox got bored and went home.')\")\n",
    "frequencies(\"The quick red fox got bored and went home.\")\n",
    "\n",
    "print(\">>> frequencies('apple')\")\n",
    "frequencies(\"apple\")"
   ]
  },
  {
   "cell_type": "code",
   "execution_count": null,
   "id": "27f55483",
   "metadata": {},
   "outputs": [],
   "source": []
  },
  {
   "cell_type": "code",
   "execution_count": null,
   "id": "30b4dd9a",
   "metadata": {},
   "outputs": [],
   "source": []
  },
  {
   "cell_type": "code",
   "execution_count": null,
   "id": "9aa3fdef",
   "metadata": {},
   "outputs": [],
   "source": []
  }
 ],
 "metadata": {
  "kernelspec": {
   "display_name": "Python 3 (ipykernel)",
   "language": "python",
   "name": "python3"
  },
  "language_info": {
   "codemirror_mode": {
    "name": "ipython",
    "version": 3
   },
   "file_extension": ".py",
   "mimetype": "text/x-python",
   "name": "python",
   "nbconvert_exporter": "python",
   "pygments_lexer": "ipython3",
   "version": "3.10.9"
  }
 },
 "nbformat": 4,
 "nbformat_minor": 5
}
