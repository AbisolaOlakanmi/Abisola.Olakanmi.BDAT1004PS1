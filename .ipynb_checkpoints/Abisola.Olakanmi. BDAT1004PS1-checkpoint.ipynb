{
 "cells": [
  {
   "cell_type": "markdown",
   "id": "8a5d3c72",
   "metadata": {},
   "source": [
    "                                           BDAT 1004\n",
    "                                       Abisola Olakanmi - 200595924\n",
    "                                          Problem Set 1"
   ]
  },
  {
   "cell_type": "markdown",
   "id": "ba650063",
   "metadata": {},
   "source": [
    "# Question 1"
   ]
  },
  {
   "cell_type": "markdown",
   "id": "fecc7c5e",
   "metadata": {},
   "source": [
    "Question 1\n",
    "What data type is each of the following (evaluate where necessary)?"
   ]
  },
  {
   "cell_type": "code",
   "execution_count": 6,
   "id": "b9c6883d",
   "metadata": {},
   "outputs": [
    {
     "name": "stdout",
     "output_type": "stream",
     "text": [
      "<class 'int'>\n",
      "<class 'float'>\n",
      "<class 'bool'>\n",
      "<class 'str'>\n",
      "<class 'int'>\n",
      "<class 'str'>\n",
      "<class 'str'>\n",
      "<class 'float'>\n",
      "<class 'set'>\n",
      "<class 'set'>\n",
      "<class 'bool'>\n",
      "<class 'float'>\n"
     ]
    }
   ],
   "source": [
    "import math\n",
    "from math import pi\n",
    "a= 5\n",
    "print(type(a))\n",
    "b= 5.0\n",
    "print(type(b))\n",
    "c= 5 > 1\n",
    "print(type(c))\n",
    "d= '5'\n",
    "print(type(d))\n",
    "e= 5 * 2\n",
    "print(type(e))\n",
    "f= '5' * 2\n",
    "print(type(f))\n",
    "g= '5' + '2'\n",
    "print(type(g))\n",
    "h= 5 / 2\n",
    "print(type(h))\n",
    "i= {5 % 2}\n",
    "print(type(i))\n",
    "j= {5, 2, 1}\n",
    "print(type(j))\n",
    "k= 5== 3\n",
    "print(type(k))\n",
    "Pi=math.pi\n",
    "print(type(pi))\n"
   ]
  },
  {
   "cell_type": "markdown",
   "id": "0ffc62e3",
   "metadata": {},
   "source": [
    "# Question 2 "
   ]
  },
  {
   "cell_type": "code",
   "execution_count": 7,
   "id": "5a4d1872",
   "metadata": {},
   "outputs": [
    {
     "data": {
      "text/plain": [
       "34"
      ]
     },
     "execution_count": 7,
     "metadata": {},
     "output_type": "execute_result"
    }
   ],
   "source": [
    "# 2a. How many letters are there in 'Supercalifragilisticexpialidocious'?\n",
    "letters = 'Supercalifragilisticexpialidocious'\n",
    "len(letters)"
   ]
  },
  {
   "cell_type": "code",
   "execution_count": 8,
   "id": "5e9ac478",
   "metadata": {},
   "outputs": [
    {
     "name": "stdout",
     "output_type": "stream",
     "text": [
      "True\n"
     ]
    }
   ],
   "source": [
    "# 2b. Does 'Supercalifragilisticexpialidocious' contain 'ice' as a substring?\n",
    "letters='Supercalifragilisticexpialidocious'\n",
    "\n",
    "print('ice' in letters)\n",
    "\n"
   ]
  },
  {
   "cell_type": "code",
   "execution_count": 9,
   "id": "eff8b29d",
   "metadata": {},
   "outputs": [
    {
     "name": "stdout",
     "output_type": "stream",
     "text": [
      "Supercalifragilisticexpialidocious\n"
     ]
    }
   ],
   "source": [
    "# 2C Which of the following words is the longest:Supercalifragilisticexpialidocious, Honorificabilitudinitatibus, or Bababadalgharaghtakamminarronnkonn?\n",
    "\n",
    "#creating a list\n",
    "lst = ['Supercalifragilisticexpialidocious', 'Honorificabilitudinitatibus', 'Bababadalgharaghtakamminarronnkonn']\n",
    "\n",
    "# get the longest word in the lst\n",
    "print(max(lst,key=len))"
   ]
  },
  {
   "cell_type": "code",
   "execution_count": 10,
   "id": "49f3f445",
   "metadata": {},
   "outputs": [
    {
     "name": "stdout",
     "output_type": "stream",
     "text": [
      "Bartok\n",
      "Buxtehude\n"
     ]
    }
   ],
   "source": [
    "# 2d.Which composer comes first in the dictionary: 'Berlioz', 'Borodin', 'Brian','Bartok', 'Bellini', 'Buxtehude', 'Bernstein'. Which one comes last?\n",
    "# creating a list and print\n",
    "Composer =['Berlioz', 'Borodin', 'Brian','Bartok', 'Bellini', 'Buxtehude', 'Bernstein']\n",
    "a= min(Composer)\n",
    "print(a)\n",
    "b= max(Composer)\n",
    "print(b)\n"
   ]
  },
  {
   "cell_type": "markdown",
   "id": "b0520979",
   "metadata": {},
   "source": [
    "# Question 3."
   ]
  },
  {
   "cell_type": "code",
   "execution_count": 6,
   "id": "daf8f935",
   "metadata": {},
   "outputs": [
    {
     "name": "stdout",
     "output_type": "stream",
     "text": [
      "1.7320508075688772\n"
     ]
    }
   ],
   "source": [
    "def triangleArea(a,b,c):\n",
    "  # calculate the semi-perimeter\n",
    "  s = (a + b + c) / 2\n",
    "\n",
    "  area = (s*(s-a)*(s-b)*(s-c)) ** 0.5   # calculating the area\n",
    "  return area\n",
    "  \n",
    "print(triangleArea(2,2,2))\n",
    "    "
   ]
  },
  {
   "cell_type": "markdown",
   "id": "48b9fbef",
   "metadata": {},
   "source": [
    "# Question 4."
   ]
  },
  {
   "cell_type": "code",
   "execution_count": 10,
   "id": "54a4c1dd",
   "metadata": {},
   "outputs": [
    {
     "name": "stdout",
     "output_type": "stream",
     "text": [
      "Even elements: [42, 56, 32]\n",
      "Odd elements: [25, 47]\n"
     ]
    }
   ],
   "source": [
    "# using split Function \n",
    "def Split(mix):\n",
    "    ev_li = []\n",
    "    od_li = []\n",
    "    for i in mix:\n",
    "        if (i % 2 == 0):\n",
    "            ev_li.append(i)\n",
    "        else:\n",
    "            od_li.append(i)\n",
    "    print(\"Even elements:\", ev_li)\n",
    "    print(\"Odd elements:\", od_li)\n",
    " \n",
    " \n",
    "# list of elements\n",
    "Input = [25, 47, 42, 56, 32, ]\n",
    "Split(mix)"
   ]
  },
  {
   "cell_type": "markdown",
   "id": "74e4074a",
   "metadata": {},
   "source": [
    "# Questions 5"
   ]
  },
  {
   "cell_type": "code",
   "execution_count": 11,
   "id": "26e93f34",
   "metadata": {},
   "outputs": [
    {
     "name": "stdout",
     "output_type": "stream",
     "text": [
      "True\n",
      "False\n"
     ]
    }
   ],
   "source": [
    "#5a Defining the fuction and returning it if it lies in the rectangle with lower left corner\n",
    "def inside(x,y,x1,y1,x2,y2):\n",
    "    if (x > x1 and x < x2 and\n",
    "        y > y1 and y < y2):\n",
    "          return True\n",
    "    else :\n",
    "        return False\n",
    "    \n",
    "print(inside(1,1,0,0,2,3))\n",
    "print(inside(-1,-1,0,0,2,3))"
   ]
  },
  {
   "cell_type": "code",
   "execution_count": 14,
   "id": "2646a83b",
   "metadata": {},
   "outputs": [
    {
     "name": "stdout",
     "output_type": "stream",
     "text": [
      "False\n",
      "True\n"
     ]
    }
   ],
   "source": [
    "#5b\n",
    "#module is being run as  top-level \n",
    "if __name__ == \"__main__\" :\n",
    "\n",
    "  def pointA():\n",
    "    x1,y1,x2,y2 = 0.3, 0.5,1.1, 0.7\n",
    "    x,y = 1,1\n",
    "    if inside(x,y,x1,y1,x2,y2):\n",
    "        \n",
    "      print(\"True\")\n",
    "    else:                 #execute if otherwise\n",
    "      print(\"False\")\n",
    "\n",
    "  def pointB():\n",
    "    x1,y1,x2,y2 = 0.5, 0.2,1.1, 2\n",
    "    x,y = 1,1 # given point\n",
    "    if inside(x,y,x1,y1,x2,y2):\n",
    "      print(\"True\")\n",
    "    else:                 #execute if otherwise\n",
    "      print(\"False\")\n",
    "#function to excecute\n",
    "pointA()\n",
    "pointB()"
   ]
  },
  {
   "cell_type": "markdown",
   "id": "93c89c52",
   "metadata": {},
   "source": [
    "# Question 6"
   ]
  },
  {
   "cell_type": "code",
   "execution_count": null,
   "id": "d5d59f74",
   "metadata": {},
   "outputs": [],
   "source": []
  },
  {
   "cell_type": "markdown",
   "id": "44aab110",
   "metadata": {},
   "source": [
    "# Question 7"
   ]
  },
  {
   "cell_type": "code",
   "execution_count": 72,
   "id": "5e0a6c37",
   "metadata": {},
   "outputs": [
    {
     "name": "stdout",
     "output_type": "stream",
     "text": [
      "There are 15 patients of blood type A.\n",
      "There are 1 patients of blood type B.\n",
      "There are 13 patients of blood type AB.\n",
      "There are 15 patients of blood type O.\n",
      "There are 0 patients of blood type OO.\n"
     ]
    }
   ],
   "source": [
    "# defining and reading the .txt file\n",
    "def bldcount(filepath):\n",
    "  x = open(filepath,'r')\n",
    "  content = x.readline()\n",
    "  lst = []\n",
    "  bloodtype1 = ['A','B','AB','O','OO']\n",
    "    \n",
    "  #Split and store in a lst\n",
    "  lst.append(content.split(\" \"))\n",
    "    \n",
    "  #count for each blood type\n",
    "  for bloodtype1 in bloodtype1:\n",
    "    print(\"There are {} patients of blood type {}.\".format(lst[0].count(bloodtype1),bloodtype1))\n",
    "    \n",
    "bldcount('bloodtype1.txt')"
   ]
  },
  {
   "cell_type": "markdown",
   "id": "9f6a4fd7",
   "metadata": {},
   "source": [
    "# Question 8"
   ]
  },
  {
   "cell_type": "code",
   "execution_count": 20,
   "id": "fe85511b",
   "metadata": {},
   "outputs": [
    {
     "name": "stdout",
     "output_type": "stream",
     "text": [
      ">>>curconv('EUR', 100): \n",
      "122.96544\n",
      ">>>curconv('JPY', 100): \n",
      "1.241401\n"
     ]
    }
   ],
   "source": [
    "def curconv(currency, amount):\n",
    "    if currency == \"EUR\":\n",
    "        rate = 1.2296544*amount\n",
    "        \n",
    "    elif currency == \"JPY\":\n",
    "        rate = 0.01241401*amount\n",
    "           \n",
    "    print(str(rate))\n",
    "    \n",
    "print(\">>>curconv('EUR', 100): \")\n",
    "curconv('EUR', 100)\n",
    "\n",
    "print(\">>>curconv('JPY', 100): \")\n",
    "curconv('JPY', 100)"
   ]
  },
  {
   "cell_type": "markdown",
   "id": "ea47879d",
   "metadata": {},
   "source": [
    "# Question 9"
   ]
  },
  {
   "cell_type": "code",
   "execution_count": 13,
   "id": "cc5efac9",
   "metadata": {},
   "outputs": [
    {
     "ename": "SyntaxError",
     "evalue": "invalid character '‘' (U+2018) (2533815438.py, line 2)",
     "output_type": "error",
     "traceback": [
      "\u001b[1;36m  Cell \u001b[1;32mIn[13], line 2\u001b[1;36m\u001b[0m\n\u001b[1;33m    b= 6 + ‘a’\u001b[0m\n\u001b[1;37m           ^\u001b[0m\n\u001b[1;31mSyntaxError\u001b[0m\u001b[1;31m:\u001b[0m invalid character '‘' (U+2018)\n"
     ]
    }
   ],
   "source": [
    "# Trying to add incompatible variables, as in adding 6 + ‘a’\n",
    "b= 6 + ‘a’\n",
    "print b\n",
    "\n",
    "\n",
    "\n",
    "#Using an undeclared variable, such as\n",
    "#print(x)\n",
    "# when x has not been defined\n",
    "# Trying to open a file that does not exist, such as\n",
    "# mistyping the file name or looking in the wrong\n",
    "# directory."
   ]
  },
  {
   "cell_type": "code",
   "execution_count": 14,
   "id": "caa6d151",
   "metadata": {},
   "outputs": [
    {
     "ename": "IndexError",
     "evalue": "list index out of range",
     "output_type": "error",
     "traceback": [
      "\u001b[1;31m---------------------------------------------------------------------------\u001b[0m",
      "\u001b[1;31mIndexError\u001b[0m                                Traceback (most recent call last)",
      "Cell \u001b[1;32mIn[14], line 2\u001b[0m\n\u001b[0;32m      1\u001b[0m lst\u001b[38;5;241m=\u001b[39m[a,b,c,d,e,f,g,h,i,j]\n\u001b[1;32m----> 2\u001b[0m \u001b[38;5;28mprint\u001b[39m(\u001b[43mlst\u001b[49m\u001b[43m[\u001b[49m\u001b[38;5;241;43m12\u001b[39;49m\u001b[43m]\u001b[49m)\n",
      "\u001b[1;31mIndexError\u001b[0m: list index out of range"
     ]
    }
   ],
   "source": [
    "#Referring to the 12th item of a list that has only 10 items\n",
    "lst=[a,b,c,d,e,f,g,h,i,j]\n",
    "print(lst[12])"
   ]
  },
  {
   "cell_type": "code",
   "execution_count": null,
   "id": "43415181",
   "metadata": {},
   "outputs": [],
   "source": [
    "#Using a value that is out of range for a function’s\n"
   ]
  },
  {
   "cell_type": "code",
   "execution_count": null,
   "id": "e629f5aa",
   "metadata": {},
   "outputs": [],
   "source": [
    "#input, such as calling math.sqrt( 1.0)"
   ]
  },
  {
   "cell_type": "code",
   "execution_count": null,
   "id": "e9bf45b2",
   "metadata": {},
   "outputs": [],
   "source": []
  },
  {
   "cell_type": "code",
   "execution_count": null,
   "id": "b19b515a",
   "metadata": {},
   "outputs": [],
   "source": []
  },
  {
   "cell_type": "code",
   "execution_count": null,
   "id": "c1aecf20",
   "metadata": {},
   "outputs": [],
   "source": []
  },
  {
   "cell_type": "code",
   "execution_count": null,
   "id": "1dcfda7d",
   "metadata": {},
   "outputs": [],
   "source": []
  },
  {
   "cell_type": "code",
   "execution_count": null,
   "id": "c2efde32",
   "metadata": {},
   "outputs": [],
   "source": []
  },
  {
   "cell_type": "code",
   "execution_count": null,
   "id": "2326dabf",
   "metadata": {},
   "outputs": [],
   "source": []
  }
 ],
 "metadata": {
  "kernelspec": {
   "display_name": "Python 3 (ipykernel)",
   "language": "python",
   "name": "python3"
  },
  "language_info": {
   "codemirror_mode": {
    "name": "ipython",
    "version": 3
   },
   "file_extension": ".py",
   "mimetype": "text/x-python",
   "name": "python",
   "nbconvert_exporter": "python",
   "pygments_lexer": "ipython3",
   "version": "3.10.9"
  }
 },
 "nbformat": 4,
 "nbformat_minor": 5
}
