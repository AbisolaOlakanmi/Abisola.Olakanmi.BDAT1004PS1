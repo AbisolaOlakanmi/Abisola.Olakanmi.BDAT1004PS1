{
 "cells": [
  {
   "cell_type": "markdown",
   "id": "1f33fcb1",
   "metadata": {},
   "source": [
    "                                           BDAT 1004\n",
    "                                       Abisola Olakanmi - 200595924\n",
    "                                          Problem Set 1"
   ]
  },
  {
   "cell_type": "markdown",
   "id": "93dd673b",
   "metadata": {},
   "source": [
    "Question 1\n",
    "What data type is each of the following (evaluate where necessary)?"
   ]
  },
  {
   "cell_type": "code",
   "execution_count": 14,
   "id": "2b9da162",
   "metadata": {},
   "outputs": [
    {
     "name": "stdout",
     "output_type": "stream",
     "text": [
      "<class 'int'>\n",
      "<class 'float'>\n",
      "<class 'bool'>\n",
      "<class 'str'>\n",
      "<class 'int'>\n",
      "<class 'str'>\n",
      "<class 'str'>\n",
      "<class 'float'>\n",
      "<class 'set'>\n",
      "<class 'set'>\n",
      "<class 'bool'>\n",
      "<class 'float'>\n"
     ]
    }
   ],
   "source": [
    "from math import pi\n",
    "a= 5\n",
    "print(type(a))\n",
    "b= 5.0\n",
    "print(type(b))\n",
    "c= 5 > 1\n",
    "print(type(c))\n",
    "d= '5'\n",
    "print(type(d))\n",
    "e= 5 * 2\n",
    "print(type(e))\n",
    "f= '5' * 2\n",
    "print(type(f))\n",
    "g= '5' + '2'\n",
    "print(type(g))\n",
    "h= 5 / 2\n",
    "print(type(h))\n",
    "i= {5 % 2}\n",
    "print(type(i))\n",
    "j= {5, 2, 1}\n",
    "print(type(j))\n",
    "k= 5== 3\n",
    "print(type(k))\n",
    "Pi=math.pi\n",
    "print(type(pi))\n"
   ]
  },
  {
   "cell_type": "code",
   "execution_count": 15,
   "id": "daeff746",
   "metadata": {},
   "outputs": [
    {
     "data": {
      "text/plain": [
       "34"
      ]
     },
     "execution_count": 15,
     "metadata": {},
     "output_type": "execute_result"
    }
   ],
   "source": [
    "# 2a. How many letters are there in 'Supercalifragilisticexpialidocious'?\n",
    "letters = 'Supercalifragilisticexpialidocious'\n",
    "len(letters)"
   ]
  },
  {
   "cell_type": "code",
   "execution_count": 17,
   "id": "04f93896",
   "metadata": {},
   "outputs": [
    {
     "name": "stdout",
     "output_type": "stream",
     "text": [
      "True\n"
     ]
    }
   ],
   "source": [
    "# 2b. Does 'Supercalifragilisticexpialidocious' contain 'ice' as a substring?\n",
    "letters='Supercalifragilisticexpialidocious'\n",
    "\n",
    "print('ice' in letters)\n",
    "\n"
   ]
  },
  {
   "cell_type": "code",
   "execution_count": 18,
   "id": "ca5e0665",
   "metadata": {},
   "outputs": [
    {
     "name": "stdout",
     "output_type": "stream",
     "text": [
      "Supercalifragilisticexpialidocious\n"
     ]
    }
   ],
   "source": [
    "# 2C Which of the following words is the longest:Supercalifragilisticexpialidocious, Honorificabilitudinitatibus, or Bababadalgharaghtakamminarronnkonn?\n",
    "\n",
    "#creating a list\n",
    "lst = ['Supercalifragilisticexpialidocious', 'Honorificabilitudinitatibus', 'Bababadalgharaghtakamminarronnkonn']\n",
    "\n",
    "# get the longest word in the lst\n",
    "print(max(lst,key=len))"
   ]
  },
  {
   "cell_type": "code",
   "execution_count": 23,
   "id": "de22a96f",
   "metadata": {},
   "outputs": [
    {
     "name": "stdout",
     "output_type": "stream",
     "text": [
      "Bartok\n",
      "Buxtehude\n"
     ]
    }
   ],
   "source": [
    "# 2d.Which composer comes first in the dictionary: 'Berlioz', 'Borodin', 'Brian','Bartok', 'Bellini', 'Buxtehude', 'Bernstein'. Which one comes last?\n",
    "# creating a list and print\n",
    "Composer =['Berlioz', 'Borodin', 'Brian','Bartok', 'Bellini', 'Buxtehude', 'Bernstein']\n",
    "a= min(Composer)\n",
    "print(a)\n",
    "b= max(Composer)\n",
    "print(b)\n"
   ]
  },
  {
   "cell_type": "code",
   "execution_count": null,
   "id": "0ee5ade7",
   "metadata": {},
   "outputs": [],
   "source": []
  }
 ],
 "metadata": {
  "kernelspec": {
   "display_name": "Python 3 (ipykernel)",
   "language": "python",
   "name": "python3"
  },
  "language_info": {
   "codemirror_mode": {
    "name": "ipython",
    "version": 3
   },
   "file_extension": ".py",
   "mimetype": "text/x-python",
   "name": "python",
   "nbconvert_exporter": "python",
   "pygments_lexer": "ipython3",
   "version": "3.10.9"
  }
 },
 "nbformat": 4,
 "nbformat_minor": 5
}
